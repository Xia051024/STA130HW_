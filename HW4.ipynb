{
 "cells": [
  {
   "cell_type": "markdown",
   "id": "a7926c3b",
   "metadata": {},
   "source": [
    "# 1.\n",
    "\n",
    "Bootstrapping is used to estimate the sampling distribution of a statistic by resampling data with replacement. By repeatedly sampling from the original dataset and calculating the desired statistic for each resample,  bootstraping could give an empirical distribution of that statistic.\n",
    "\n",
    "Standard Error of the Mean (SEM) measures the standard error of the mean measures the precision with which the sample mean estimates the population mean. It quantifies how much the sample mean would vary from sample to sample if we repeatedly drew samples from the population.\n",
    "\n",
    "Standard deviation of the original data measures the spread or dispersion of individual data points in the original dataset. It tells how much the data points tend to deviate from the mean of the dataset.\n",
    "\n",
    "The difference between SEM and Standard deviation is that SEM get statistics through resampling data with replacement rather than using original data. SEM will applicate bootstrapping, estimating from the variation in the sample means across the bootstrap samples. However, for standard deviation of the original data, the statistics are not estimated from sample but from original true condition.\n",
    "\n",
    "CHAT summary:\n",
    "https://chatgpt.com/share/66fd7c32-c7a4-8008-8596-8a21fe37a736\n",
    "1. We explored **bootstrapping**, a statistical method that involves resampling with replacement to estimate the sampling distribution of a statistic, often used for estimating confidence intervals or the standard error when theoretical distributions are unknown.\n",
    "\n",
    "2. We clarified the difference between the **standard deviation (SD)** and the **standard error of the mean (SEM)**:\n",
    "   - **SD** measures the spread of data points within the sample.\n",
    "   - **SEM** estimates the precision of the sample mean as a reflection of the population mean and decreases with larger sample sizes.\n",
    "\n",
    "3. We discussed how **SEM can be estimated using bootstrapping**, providing a non-parametric approach for calculating SEM when traditional assumptions (e.g., normality) don’t hold.\n",
    "\n",
    "4. We framed the distinction between SD and SEM in terms of **sample vs. population**:\n",
    "   - SD is a **descriptive statistic** based on the sample.\n",
    "   - SEM is an **inferential statistic** aimed at understanding the accuracy of the sample mean in estimating the true population mean."
   ]
  },
  {
   "cell_type": "markdown",
   "id": "0d481bf3",
   "metadata": {},
   "source": [
    "# 2.\n",
    "\n",
    "First,start with original sample data of size n.\n",
    "   \n",
    "Second, use bootstrap resampling. With replacement from the original sample 10000 time. Each resample should be the same size as the original sample n.\n",
    "\n",
    "Third, calculate Standard Error of the Mean (SEM). Calculate the sample mean of each boost sample. \n",
    "\n",
    "Fourth, determine the Critical Value for 95% confidence. For a 95% confidence interval,use the critical value from the standard normal distribution, which is about 2 for 95% confidence.\n",
    "\n",
    "Fifth, calculate the confidence interval. \n",
    "CI = [The mean of the bootstrapped sample means - 2 x SEM, The mean of the bootstrapped sample means + 2 x SEM]\n",
    "SEM is the standard error of the bootstrapped means.\n",
    "This formula will give a confidence interval that covers 95% of the bootstrapped sample means.\n",
    "\n",
    "Finally, interpret the Results. The resulting interval reflects where 95% of the bootstrapped sample means are expected to lie, providing an empirical confidence interval for the population mean based on the original sample.\n",
    "\n",
    "CHAT summary:\n",
    "https://chatgpt.com/share/66fd7eca-8d2c-8008-bb96-3448fafd2f9c\n",
    "\n",
    "1. **Collect data** from your original sample.\n",
    "2. **Bootstrap resampling**: Resample the data multiple times, calculate the mean for each resample, and create a distribution of sample means.\n",
    "3. **Calculate SEM**: Use the standard deviation of the bootstrapped sample means as the SEM.\n",
    "4. **Determine the critical value** (1.96 for 95% confidence) from the standard normal distribution.\n",
    "5. **Calculate the confidence interval**\n",
    "6. **Interpret** the results: The interval covers 95% of the bootstrapped sample means, estimating the population mean.\n"
   ]
  },
  {
   "cell_type": "markdown",
   "id": "cf9545f2",
   "metadata": {},
   "source": [
    "# 3.\n",
    "\n",
    "Firstly, load my sample data using pd.read_csv().\n",
    "\n",
    "Second, set the key parameters of simulation. Set our sample size and how many times we want to repeat the sampling. For exapmle, set rps = 10000(repeat times). Set our sample size equals to our original sample n.\n",
    "\n",
    "Thirdly, use np.zeros() to create an array to save values.\n",
    "\n",
    "Fourthly, use np.random.seed() to set original random value to make sure the results are the same while we are resampling our data. \n",
    "\n",
    "Fifthly, use np.random choice() sampling from our original sample with replacement.\n",
    "\n",
    "Sixthly, use sample.mean() to calculate the semple mean of each bootstrap.\n",
    "\n",
    "Finally, use np.quantile() to generate the lower confidence limit and the upper confidence limit from 1000 bootstrap sample mean, between the percentage from 0.025 to 0.0975.\n"
   ]
  },
  {
   "cell_type": "code",
   "execution_count": 4,
   "id": "f4306c52",
   "metadata": {},
   "outputs": [
    {
     "name": "stdout",
     "output_type": "stream",
     "text": [
      "95% Bootstrap CI for the population median of sepal length: (5.6, 6.0)\n"
     ]
    }
   ],
   "source": [
    "# 4.\n",
    "import numpy as np\n",
    "import pandas as pd\n",
    "\n",
    "# Step 1: Load the sample data\n",
    "url = \"https://raw.githubusercontent.com/mwaskom/seaborn-data/master/iris.csv\"\n",
    "data = pd.read_csv(url)\n",
    "\n",
    "# Select the feature for which we want to calculate the bootstrap CI\n",
    "feature = 'sepal_length'\n",
    "original_sample = data[feature].values  # Convert the feature column to a NumPy array\n",
    "\n",
    "# Step 2: Set the key parameters for simulation\n",
    "n = len(original_sample)  # Sample size equals to the original sample size\n",
    "rps = 10000  # Number of times to repeat the sampling\n",
    "\n",
    "# Step 3: Use np.zeros() to create an array to save values\n",
    "bootstrap_medians = np.zeros(rps)\n",
    "\n",
    "# Step 4: Set random seed for reproducibility\n",
    "np.random.seed(333)\n",
    "\n",
    "# Step 5: Perform bootstrap sampling\n",
    "for i in range(rps):\n",
    "    bootstrap_sample = np.random.choice(original_sample, size=n, replace=True)\n",
    "    \n",
    "    # Step 6: Calculate the sample median of each bootstrap sample\n",
    "    bootstrap_medians[i] = np.median(bootstrap_sample)\n",
    "\n",
    "# Step 7: Calculate the confidence intervals using np.quantile()\n",
    "lower_ci = np.quantile(bootstrap_medians, 0.025)  # Lower confidence limit\n",
    "upper_ci = np.quantile(bootstrap_medians, 0.975)  # Upper confidence limit\n",
    "\n",
    "# Output the results\n",
    "print(\"95% Bootstrap CI for the population median of sepal length:\", (lower_ci, upper_ci))"
   ]
  },
  {
   "cell_type": "markdown",
   "id": "5afbe7f5",
   "metadata": {},
   "source": [
    "#Chat summary: https://chatgpt.com/share/66fd8946-0c38-8008-aa78-8082953f9452\n",
    "\n",
    "1. **Bootstrap Confidence Interval Code**:\n",
    "   - You requested code to produce a 95% bootstrap confidence interval for a population mean and later specified to focus on the population median.\n",
    "   - I provided a detailed code example that used the bootstrap method to calculate confidence intervals for both the mean and median, using the `sepal_length` from the Iris dataset.\n",
    "\n",
    "2. **Step-by-Step Instructions**:\n",
    "   - You specified a series of steps for implementing the bootstrap confidence interval, which included loading data, setting parameters, sampling, and calculating the median.\n",
    "   - I adapted the code to follow your specific instructions, including setting the random seed to ensure reproducibility.\n",
    "\n",
    "3. **Final Code Implementation**:\n",
    "   - The final code was provided using the `sepal_length` feature from the Iris dataset, with the random seed set to `333`.\n",
    "   - The code effectively demonstrated how to compute the 95% bootstrap confidence interval for the population median."
   ]
  },
  {
   "cell_type": "markdown",
   "id": "c24a3a55",
   "metadata": {},
   "source": [
    "# 5.\n",
    "\n",
    "Population Parameter is a value that describes a characteristic of the entire population. It is usually unknown and fixed. Sample Statistic is a value calculated from a sample drawn from the population. It varies from sample to sample.\n",
    "Confidence intervals are used to estimate the population parameter based on the sample statistic. The sample statistic serves as a point estimate of the population parameter, but because of sampling variability, it may not equal the true population parameter. \n",
    "The confidence interval quantifies the uncertainty around the sample statistic as an estimate of the population parameter. It provides a range within which we expect the population parameter to lie, with a certain level of confidence. We could use confidence interval to estimate the statistics we want from the entire population as population parameter cannot be calculated in real life. \n",
    "\n",
    "chat summary:\n",
    "https://chatgpt.com/share/66fd8dd1-5608-8008-bd94-5b3c1290373c"
   ]
  },
  {
   "cell_type": "markdown",
   "id": "d76df695",
   "metadata": {},
   "source": [
    "# 6.\n",
    "What is the process of bootstrapping?\n",
    "The process of bootstapping is to get the statistics through resampling data with replacement.\n",
    "\n",
    "What is the main purpose of bootstrapping?\n",
    "To estimate those population parameter by using boostrapped samples.\n",
    "\n",
    "If you had a (hypothesized) guess about what the average of a population was, and you had a sample of size n from that population, how could you use bootstrapping to assess whether or not your (hypothesized) guess might be plausible?\n",
    "I need to check whether the (hypothesized) guess is in the CI. If it is in the range of CI, then this suggests that  hypothesized average is plausible given the sample data, meaning there isn't enough evidence to reject it. If it is not in (outside) the range of CI, then I would reject the guess since it is not supported by the sample data."
   ]
  },
  {
   "cell_type": "markdown",
   "id": "279661b3",
   "metadata": {},
   "source": [
    "# 7.\n",
    "If the range of CI includes 0 which indicates that the estimated range of plausible values for the population effect includes no effect (zero), then the fact \"mean statistic itself is zero\" should be included, which is true, failng to reject null hypothesis.\n",
    "It won't lead to the opposite conclusion in this context, because there is no condition to reject null hypothesis. Under 95% of the condition, the CI contains zero, which means under 95% null hypothesis \"drug has no effect\" is included. This means null hypothesis are mostly correct. I cannot reject null hypothesis, failing to reject null hypothesis. Fail to reject null hypothesis conclude rejecting alternative hypothesis. I don't have enough evidence to state alternative hypothesis is correct, meaning drugs have no effect."
   ]
  },
  {
   "cell_type": "code",
   "execution_count": 19,
   "id": "b25f9ed7",
   "metadata": {},
   "outputs": [
    {
     "name": "stdout",
     "output_type": "stream",
     "text": [
      "Mean Change: 3.30\n",
      "95% Confidence Interval: [0.70, 5.60]\n"
     ]
    }
   ],
   "source": [
    "# 8.\n",
    "import pandas as pd\n",
    "import numpy as np\n",
    "\n",
    "patient_ids = [1, 2, 3, 4, 5, 6, 7, 8, 9, 10]\n",
    "ages = [45, 34, 29, 52, 37, 41, 33, 48, 26, 39]\n",
    "genders = ['M', 'F', 'M', 'F', 'M', 'F', 'M', 'F', 'M', 'F']\n",
    "initial_health_scores = [84, 78, 83, 81, 81, 80, 79, 85, 76, 83]\n",
    "final_health_scores = [86, 86, 80, 86, 84, 86, 86, 82, 83, 84]\n",
    "\n",
    "data = {\n",
    "    \"PatientID\": patient_ids,\n",
    "    \"Age\": ages,\n",
    "    \"Gender\": genders,\n",
    "    \"InitialHealthScore\": initial_health_scores,\n",
    "    \"FinalHealthScore\": final_health_scores\n",
    "}\n",
    "df = pd.DataFrame(data)\n",
    "\n",
    "df['HealthChange'] = df['FinalHealthScore'] - df['InitialHealthScore']\n",
    "\n",
    "def bootstrap_means(data, num_samples=1000):\n",
    "    boot_means = []\n",
    "    for _ in range(num_samples):\n",
    "        sample = np.random.choice(df['HealthChange'], size=len(data), replace=True)\n",
    "        boot_means.append(np.mean(sample))\n",
    "    return np.array(boot_means)\n",
    "\n",
    "np.random.seed(199)\n",
    "\n",
    "bootstrap_results = bootstrap_means(df['HealthChange'].values)\n",
    "\n",
    "mean_change = np.mean(df['HealthChange'])\n",
    "lower_bound = np.percentile(bootstrap_results, 2.5)\n",
    "upper_bound = np.percentile(bootstrap_results, 97.5)\n",
    "\n",
    "print(f'Mean Change: {mean_change:.2f}')\n",
    "print(f'95% Confidence Interval: [{lower_bound:.2f}, {upper_bound:.2f}]')\n"
   ]
  },
  {
   "cell_type": "markdown",
   "id": "74aa8779",
   "metadata": {},
   "source": [
    "Set U be the population mean of the difference between final health score and initial health score.\n",
    "\n",
    "Null hypothesis: U = 0 (vaccine has no effect)\n",
    "Alternative hypothesis : U != 0 (vaccine has some effect)\n",
    "\n",
    "As the CI is between 0.70 and 5.60, U = 0 is not in the interval, meaning rejecting the null hypothesis. U!=0 is included in the CI, so we have enough evidence to be fail to reject the alternative hypothesis, which means the vaccine has some effect. "
   ]
  },
  {
   "cell_type": "markdown",
   "id": "632c0599",
   "metadata": {},
   "source": [
    "# 9. no"
   ]
  }
 ],
 "metadata": {
  "kernelspec": {
   "display_name": "Python 3 (ipykernel)",
   "language": "python",
   "name": "python3"
  },
  "language_info": {
   "codemirror_mode": {
    "name": "ipython",
    "version": 3
   },
   "file_extension": ".py",
   "mimetype": "text/x-python",
   "name": "python",
   "nbconvert_exporter": "python",
   "pygments_lexer": "ipython3",
   "version": "3.11.6"
  }
 },
 "nbformat": 4,
 "nbformat_minor": 5
}
