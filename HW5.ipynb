{
 "cells": [
  {
   "cell_type": "markdown",
   "id": "383fac2a",
   "metadata": {},
   "source": [
    "# 1. \n",
    "The key factor that makes the ideas that can be examined and tested statistically is that the ideas are based on objective datas. For those ideas that cannot be tested statistically, they are mostly based on subjective opinions, which could not be datamined.\n",
    "A good null hypothesis is that it could be suppoeted by large amount of data, which means the evidence is convincing. \n",
    "Null hypothesis is to assume \"Nothing happened\". An althernative hypothesis is to assume \"Something happened\". Null hypothesis and althernative hypothesis are contradicted with each other. \n"
   ]
  },
  {
   "cell_type": "markdown",
   "id": "59c76c33",
   "metadata": {},
   "source": [
    "# 2.\n",
    "𝑥𝑖's (xi): These are individual data points or observations in a dataset, which is picked randomly. For example, in a sample of heights, each 𝑥𝑖 represents the height of a single person.\n",
    "𝑥¯ (x-bar): This symbol represents the sample mean. It's calculated by summing all 𝑥𝑖's which is ramdonly picked from the sample and dividing by the number of observations 𝑛. 𝑥¯ gives us an estimate of the population mean 𝜇 based on the sample.\n",
    "𝜇 (mu): This symbol represents the population mean. It's the average value of the entire population, which is often unknown and estimated using 𝑥¯ from a sample.\n",
    "𝜇0 (mu-zero): This typically represents a hypothesized population mean in statistical hypothesis testing. For instance, in a hypothesis test comparing sample means, 𝜇0 could be the mean under the null hypothesis (the hypothesis that assumes no effect or no difference).\n",
    "\n",
    "chat summary:\n",
    "https://chatgpt.com/share/6706b785-8d0c-8008-b7d9-03c44304fa15"
   ]
  },
  {
   "cell_type": "markdown",
   "id": "4c079814",
   "metadata": {},
   "source": [
    "# 3.\n",
    "We need to assume H0 is true, because we need the assumption of H0 to calculate p-value. As null hypothesis is contradicted with althernative hypothesis, the only way to say althernative hypothesis is true is to reject null hypothesis. To reject null hypothesis, we need have a big p-value to provide enough evidence. By assuming null hypothesis is true, we could calculate the p-value. Then, we could have evidence to prove whether null hypothesis could be rejected or not. \n"
   ]
  },
  {
   "cell_type": "markdown",
   "id": "863d26a6",
   "metadata": {},
   "source": [
    "# 4.\n",
    "From the example of the video, we assume that the dog Fido is innocent. So the crime of having gotten into the garbage bin should not be caused by Fido but other reasons, such as our neighbour breaks into our house. However, the possibility of the hypothesis \"neighbour breaks into our house\" is too small (p-value), rejecting the assumption \"Fido is innocent\". The possibility of the hypothesis \"neighbour breaks into our house\" means the p-value. As the p-value is small, we could assure null hypothesis could be rejected.  "
   ]
  },
  {
   "cell_type": "markdown",
   "id": "24c3f42c",
   "metadata": {},
   "source": [
    "# 5.\n",
    "H0: 50% of the kissing couples tilt their heads\n",
    "HA: 50% of the kissing couples don't tilt their heads"
   ]
  },
  {
   "cell_type": "code",
   "execution_count": 1,
   "id": "b1e0e2be",
   "metadata": {},
   "outputs": [
    {
     "name": "stdout",
     "output_type": "stream",
     "text": [
      "Simulated p-value: 0.001\n"
     ]
    }
   ],
   "source": [
    "import numpy as np\n",
    "\n",
    "observed_right_tilts = 80\n",
    "total_couples = 124\n",
    "simulations = 10000 \n",
    "\n",
    "simulated_tilts = np.random.binomial(n=total_couples, p=0.5, size=simulations)\n",
    "p_value = np.mean(simulated_tilts >= observed_right_tilts)\n",
    "\n",
    "print(f\"Simulated p-value: {p_value}\")"
   ]
  },
  {
   "cell_type": "markdown",
   "id": "8129b67c",
   "metadata": {},
   "source": [
    "According to the table, the simulated p-value 0.001 provides a strong evidence that the H0 could be rejected, meaning 50% of the kissing couples don't tilt their heads."
   ]
  },
  {
   "cell_type": "markdown",
   "id": "2a4d35c0",
   "metadata": {},
   "source": [
    "# 6.\n",
    "We should define how small that p-value is. For example, if p-value <= 0.001, this shows a very strong evidence that the null hypothesis is false. if 0.001 < p-value < 0.01, this shows relatively strong evidence that the null hypothesis is false. if 0.01 < p-value <= 0.05, this shows a moderate evidence that the null hypothesis is false. We need a range for us to evaluate whether the p-value is small enough to provide evidence of rejecting null hypothesis. \n",
    "Theoretically, we can't have any definite conclusion. All p-value we have is a possiblity not a \"True\" or \"False\" choice. We just have the range of the p-value providing evidence to enable us make evaluation: whether we have enough evidence to reject null hypothesis. There is no definite cases. "
   ]
  },
  {
   "cell_type": "markdown",
   "id": "58c5f7ed",
   "metadata": {},
   "source": [
    "# 7.\n"
   ]
  },
  {
   "cell_type": "code",
   "execution_count": 3,
   "id": "26504a42",
   "metadata": {},
   "outputs": [
    {
     "name": "stdout",
     "output_type": "stream",
     "text": [
      "T-statistic: 2.5900615612703937\n",
      "One-sided p-value: 0.014605261907746248\n"
     ]
    }
   ],
   "source": [
    "# Create the HealthScoreChange column\n",
    "patient_data['HealthScoreChange'] = patient_data['FinalHealthScore'] - patient_data['InitialHealthScore']\n",
    "\n",
    "# Now proceed with the hypothesis test calculations\n",
    "import scipy.stats as stats\n",
    "\n",
    "# Calculate the mean and standard deviation of the HealthScoreChange\n",
    "mean_change = patient_data['HealthScoreChange'].mean()\n",
    "std_change = patient_data['HealthScoreChange'].std(ddof=1)\n",
    "n = len(patient_data)\n",
    "\n",
    "# Calculate the t-statistic for one-sided test (null hypothesis: no change or FinalHealthScore <= InitialHealthScore)\n",
    "t_statistic = mean_change / (std_change / n**0.5)\n",
    "\n",
    "# Compute the one-sided p-value (alternative hypothesis: FinalHealthScore > InitialHealthScore)\n",
    "p_value = 1 - stats.t.cdf(t_statistic, df=n-1)\n",
    "\n",
    "print(f\"T-statistic: {t_statistic}\")\n",
    "print(f\"One-sided p-value: {p_value}\")\n"
   ]
  },
  {
   "cell_type": "markdown",
   "id": "4935c542",
   "metadata": {},
   "source": [
    "We could expect one-side p-value is smaller than \"two tailed\" p-value, as it only evaluate one side of test. One-side value focuses on deviations in only one direction (either greater than or less than a certain value). It considers just one extreme tail of the distribution.\n",
    "\n",
    "Chat summary:\n",
    "https://chatgpt.com/share/6706d4e2-3aac-8008-8b47-7366f7a98f72"
   ]
  },
  {
   "cell_type": "markdown",
   "id": "ce521e0e",
   "metadata": {},
   "source": [
    "# 8.\n",
    "H0 = 50% of people could tell the difference.\n",
    "HA = more than 50% of people could tell the difference."
   ]
  },
  {
   "cell_type": "code",
   "execution_count": 13,
   "id": "cd0c8961",
   "metadata": {},
   "outputs": [
    {
     "name": "stdout",
     "output_type": "stream",
     "text": [
      "Simulated p-value: 0.0375\n"
     ]
    }
   ],
   "source": [
    "import numpy as np\n",
    "\n",
    "differentiated = 49\n",
    "total = 80\n",
    "simulations = 80\n",
    "\n",
    "np.random.seed(10000)\n",
    "\n",
    "p_values = []\n",
    "\n",
    "for _ in range(simulations):\n",
    "    simulated_differentiated = np.random.binomial(n=total, p=0.5)\n",
    "    p_values.append(simulated_differentiated >= differentiated)\n",
    "\n",
    "p_value = np.mean(p_values)\n",
    "\n",
    "print(f\"Simulated p-value: {p_value}\")\n"
   ]
  },
  {
   "cell_type": "markdown",
   "id": "c6a3e6cb",
   "metadata": {},
   "source": [
    "p-value = 0.0375 0.05 >= p > 0.01 showing a moderate evidence against the null hypothesis"
   ]
  },
  {
   "cell_type": "markdown",
   "id": "800b703c",
   "metadata": {},
   "source": [
    "# 9. No"
   ]
  }
 ],
 "metadata": {
  "kernelspec": {
   "display_name": "Python 3 (ipykernel)",
   "language": "python",
   "name": "python3"
  },
  "language_info": {
   "codemirror_mode": {
    "name": "ipython",
    "version": 3
   },
   "file_extension": ".py",
   "mimetype": "text/x-python",
   "name": "python",
   "nbconvert_exporter": "python",
   "pygments_lexer": "ipython3",
   "version": "3.11.6"
  }
 },
 "nbformat": 4,
 "nbformat_minor": 5
}
