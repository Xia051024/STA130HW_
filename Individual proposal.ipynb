{
 "cells": [
  {
   "cell_type": "markdown",
   "id": "b3b44e81",
   "metadata": {},
   "source": [
    "### Individual proposal\n",
    "\n",
    "I am going to investigate the relationship between the rank of wellness (feeling down) and the number of social days with friends in terms of different genders ( Here should be two genders in total: men and women). I plan to use Hypothesis Testing, Confidence Interval and Simple Linear Regression these three distinct analyses to analyze my data. I will explain how my investigation will be carried out through these three methods.\n",
    "\n",
    "To make my investigation convenient, I will use ordinal description to describe the rank of wellness (feeling down) using integers. The smaller the integers get, the rank of feeling down people feel.\n",
    "\n",
    "### Hypothesis Testing:\n",
    "\n",
    "Hypothesis testing can be used to determine whether a statement about the value of a population parameter should or should not be rejected, which will need the null hypothesis and the alternative hypothesis. In my investigation, I will do HT four times in order to compare and contrast the rank of wellness and the number of social days of the two genders. To make HT happen, I will use the sample mean of my two variables. \n",
    "\n",
    "For the rank of wellness(feeling down), I will make an alternative hypothesis:  The sample mean of the rank of wellness of women is higher than that of men. So the null hypothesis will be written as: The sample mean of rank of wellness of women is lower than or equal to that of men. By setting up my hypothesis, I could use bootstrap sampling method to simulate distribution of the sample mean and find my p-value. I will first generate several samples by using np.random.choice and loops to simulate my sample mean. I could reject or fail to reject my null hypothesis by using Strength of Evidence.\n",
    "\n",
    "For the number of social days with friends , I will do the same thing with different data. This time, my alternative hypothesis will be:  The sample mean of social days (with friends) of women is higher than that of men. So the null hypothesis will be written as the sample mean of social days (with friends) of women is lower than or equal to that of men. I will also use the bootstrap sampling method to find my p-value. I compare my p-value by using the Strength of Evidence to reject my null hypothesis.\n",
    "\n",
    "I would assume that women who have more social days with friends would have a higher ranking of wellness. Men, generally speaking, who seem to have fewer social days with friends, would have a lower ranking of wellness. If my assumption is true, I would say more social time with friends would somehow avoid people feeling down. If my investigation has a conclusion that is the complete opposite: women who have fewer social days with friends would have a higher ranking of wellness. I would conclude that more social days with friends will not somehow help women avoid feeling down.\n",
    "\n",
    "Hypothesis Tetsing is the method I have learned in lecture 5. This statistical method could be used to make inferences or draw conclusions about my sample data. To compare two variables, I will use two-sample hypothesis testing. I learned the  Strength of Evidence table in homework 5, which will be also used in my investigation.\n",
    "\n",
    "\n",
    "### Confidence Interval:\n",
    "\n",
    "Confidence Interval is a range of values, derived from sample data, that is likely to contain the true population parameter with a specified level of confidence. In my investigation, I would use a 95% confidence interval to estimate the range within which I expect my true sample mean to fall.\n",
    "\n",
    "I will first set up my hypothesis bootstrap and use the bootstrap sampling method to simulate the distribution of the sample mean, which is the same thing I’ve done for the Hypothesis testing. After the simulation, I will have two conclusions (One for the number of social days with friends and another for the ranking of wellness. ) drawn by Confidence Interval. \n",
    "\n",
    "After getting a distribution of my sample mean, I would use a 95% confidence level to provide an estimate for the sample mean. If my p-value has fallen into the 95% interval, I will have 95% confidence that I should not reject my null hypothesis. \n",
    "\n",
    "I will also give my assumption before my investigation. By using CI, I would have 95% confidence to conclude that men who seem to have fewer social days with friends would have a lower ranking of wellness. If my assumption is true, I would say more social time with friends would somehow avoid people feeling down. If my investigation has a conclusion that is the complete opposite, I would have 95% confidence that women who have fewer social days with friends would have a higher ranking of wellness. I would have 95% confidence to conclude that more social days with friends will not somehow help women avoid feeling down.\n",
    "\n",
    "CI is the method I have learned in lecture 4. However, bootstrapped confidence intervals are something I have learned in lecture 5. In the lecture, I have learned how to prove and how to use bootstrapped confidence intervals. Now I would utilize this skill in my investigation to help me get a true sample mean within my CI, assisting me draw a conclusion about my sample.\n",
    "\n",
    "### Simple Linear Regression:\n",
    "\n",
    "Simple Linear regression is a statistical method used to model the relationship between two variables by fitting a linear equation to observed data. For my investigation, I will use Simple Linear regression to find the relationship between  the rank of wellness (feeling down) and  the numer of social days with friends. There will be two results: one for men, one for women. \n",
    "\n",
    "Here I will make an assumption before my simulation. I would assume that if people have more social days with friends, people would have higher rank of wellness. Since I believe more communication with friends will help avoid feeling down. So I set the rank of wellness  (feeling down) as the dependent variable and the number of social days with friends as the independent variable. \n",
    "For men:\n",
    "\n",
    "For women:\n",
    "\n",
    "After getting two equations of men and women, I will analyze and compare the coefficients from both models. The slopes (β1) will be used to determine which variable has a higher value than the other. A significant difference in slopes could indicate the relationship behaves differently across genders.\n",
    "\n",
    "If β1men is larger than β1women and is positive, I will conclude that more social days with friends will somehow help men avoid feeling down and being depressed. The effects of social days brought to men will be higher than the effects brought to women.  If β1men is negative and is smaller than β1women, I will conclude that more social days with friends will somehow have a negative effect on men. If  β1women is also negative, I would say more social days with friends will also have a negative effect on women. \n",
    "\n",
    "I learned Simple Linear regression in lecture 10. I have learned how I could use python to help me simulate simple linear regression for my data. This method is easy to implement and understand.\n",
    "\n",
    "\n",
    "In conclusion, I will use Hypothesis Tetsing, Confidence Interval and Simple Linear Regression these three distinct analyses to tell if there is a relationship between  the rank of wellness (feeling down) and the number of social days with friends in terms of two genders (women and men). By using the knowledge I have learnt in STA130, I would know whether the number of social days with friends would have positive effects on the rank of wellness (feeling down). Also, I would see how this variable would affect differently on both genders."
   ]
  }
 ],
 "metadata": {
  "kernelspec": {
   "display_name": "Python 3 (ipykernel)",
   "language": "python",
   "name": "python3"
  },
  "language_info": {
   "codemirror_mode": {
    "name": "ipython",
    "version": 3
   },
   "file_extension": ".py",
   "mimetype": "text/x-python",
   "name": "python",
   "nbconvert_exporter": "python",
   "pygments_lexer": "ipython3",
   "version": "3.11.6"
  }
 },
 "nbformat": 4,
 "nbformat_minor": 5
}
